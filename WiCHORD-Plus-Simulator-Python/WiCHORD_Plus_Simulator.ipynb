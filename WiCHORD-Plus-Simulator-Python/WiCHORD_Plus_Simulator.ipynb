{
 "cells": [
  {
   "cell_type": "markdown",
   "source": [
    "# WiCHORD+ Simulator Implementation in Python\n",
    "Created by Christos-Panagiotis Balatsouras\n",
    "ORCID: https://orcid.org/0000-0001-8914-7559"
   ],
   "metadata": {
    "collapsed": false
   },
   "id": "6dead88455b13fe2"
  },
  {
   "cell_type": "markdown",
   "source": [
    "## Use Case: Chord-Based Routing Evaluation on Wireless Sensor Networks\n",
    "\n",
    "Simulation Experiments:\n",
    "1. Key (Node IDs) Storage Efficiency per node & Load Balancing\n",
    "2. Energy Efficiency\n",
    "3. MAC Address Hashing for Node ID Assignment Collision Rate"
   ],
   "metadata": {
    "collapsed": false
   },
   "id": "8d74c630f6088e2f"
  },
  {
   "cell_type": "code",
   "execution_count": 1,
   "outputs": [],
   "source": [
    "# Import Python Modules\n",
    "import matplotlib as mpl\n",
    "import matplotlib.pyplot as plt\n",
    "import secrets\n",
    "import random\n",
    "import pandas as pd"
   ],
   "metadata": {
    "collapsed": false,
    "ExecuteTime": {
     "end_time": "2023-08-21T02:56:52.557945100Z",
     "start_time": "2023-08-21T02:56:49.289709700Z"
    }
   },
   "id": "147ac1ebbd225db1"
  },
  {
   "cell_type": "code",
   "execution_count": 2,
   "outputs": [],
   "source": [
    "# Import modules from this project\n",
    "from network_build import network_build\n",
    "from SensorNode import SensorNode\n",
    "from Query import Query"
   ],
   "metadata": {
    "collapsed": false,
    "ExecuteTime": {
     "end_time": "2023-08-21T02:56:52.596776600Z",
     "start_time": "2023-08-21T02:56:52.557945100Z"
    }
   },
   "id": "e25e0acc2bdcfdbf"
  },
  {
   "cell_type": "code",
   "execution_count": 3,
   "outputs": [],
   "source": [
    "# Global Variables\n",
    "# ..."
   ],
   "metadata": {
    "collapsed": false,
    "ExecuteTime": {
     "end_time": "2023-08-21T02:56:52.628023500Z",
     "start_time": "2023-08-21T02:56:52.596776600Z"
    }
   },
   "id": "70630b42d9056d03"
  },
  {
   "cell_type": "markdown",
   "source": [
    "### Main Application"
   ],
   "metadata": {
    "collapsed": false
   },
   "id": "37eacf3e5acf175b"
  },
  {
   "cell_type": "code",
   "execution_count": 4,
   "outputs": [
    {
     "name": "stdout",
     "output_type": "stream",
     "text": [
      "+-----------------------------------+\n",
      "|                                   |\n",
      "|        Wi-CHORD+ Simulator        |\n",
      "|                                   |\n",
      "+-----------------------------------+\n",
      "Chord Protocol Application on Wireless Sensor Networks\n",
      "Implementation by Christos-Panagiotis Mpalatsouras\n",
      "ORCID: orcid.org/0000-0001-8914-7559\n"
     ]
    }
   ],
   "source": [
    "print(\"+-----------------------------------+\")\n",
    "print(\"|                                   |\")\n",
    "print(\"|        Wi-CHORD+ Simulator        |\")\n",
    "print(\"|                                   |\")\n",
    "print(\"+-----------------------------------+\")\n",
    "print(\"Chord Protocol Application on Wireless Sensor Networks\")\n",
    "print(\"Implementation by Christos-Panagiotis Mpalatsouras\")\n",
    "print(\"ORCID: orcid.org/0000-0001-8914-7559\")"
   ],
   "metadata": {
    "collapsed": false,
    "ExecuteTime": {
     "end_time": "2023-08-21T02:56:52.691063700Z",
     "start_time": "2023-08-21T02:56:52.612326900Z"
    }
   },
   "id": "50ed9c481cd23ba7"
  },
  {
   "cell_type": "code",
   "execution_count": 5,
   "outputs": [],
   "source": [
    "total_runs_per_experiment = int(input(\"Please Specify the total runs per experiment: \"))\n",
    "minimum_nodes = int(input(\"Please Specify the minimum num of nodes on the network: \"))\n",
    "maximum_nodes = int(input(\"Please Specify the maximum num of nodes on the network: \"))\n",
    "step = int(input(\"Please specify the total nodes increment step: \"))"
   ],
   "metadata": {
    "collapsed": false,
    "ExecuteTime": {
     "end_time": "2023-08-21T02:57:04.929860300Z",
     "start_time": "2023-08-21T02:56:52.628023500Z"
    }
   },
   "id": "8d38125e3832fa93"
  },
  {
   "cell_type": "markdown",
   "source": [
    "#### Simulation #1: Key Load Balancing"
   ],
   "metadata": {
    "collapsed": false
   },
   "id": "8fa0e754b6cbdc87"
  },
  {
   "cell_type": "code",
   "execution_count": 6,
   "outputs": [
    {
     "name": "stdout",
     "output_type": "stream",
     "text": [
      "\n",
      "Experiment: Measuring the Average NodeID Storage per total number of Nodes\n"
     ]
    }
   ],
   "source": [
    "print(\"\\nExperiment: Measuring the Average NodeID Storage per total number of Nodes\\n\")"
   ],
   "metadata": {
    "collapsed": false,
    "ExecuteTime": {
     "end_time": "2023-08-21T02:57:08.196793400Z",
     "start_time": "2023-08-21T02:57:08.178261600Z"
    }
   },
   "id": "cfad05fcf4826072"
  },
  {
   "cell_type": "code",
   "execution_count": 7,
   "outputs": [
    {
     "name": "stdout",
     "output_type": "stream",
     "text": [
      "\n",
      "Running Experiment with total nodes:  10\n",
      "\n",
      "Running Experiment with total nodes:  15\n",
      "\n",
      "Running Experiment with total nodes:  20\n",
      "\n",
      "Running Experiment with total nodes:  25\n",
      "\n",
      "Running Experiment with total nodes:  30\n",
      "\n",
      "Running Experiment with total nodes:  35\n",
      "\n",
      "Running Experiment with total nodes:  40\n",
      "\n",
      "Running Experiment with total nodes:  45\n",
      "\n",
      "Running Experiment with total nodes:  50\n",
      "\n",
      "Running Experiment with total nodes:  55\n",
      "\n",
      "Running Experiment with total nodes:  60\n",
      "\n",
      "Running Experiment with total nodes:  65\n",
      "\n",
      "Running Experiment with total nodes:  70\n",
      "\n",
      "Running Experiment with total nodes:  75\n",
      "\n",
      "Running Experiment with total nodes:  80\n",
      "\n",
      "Running Experiment with total nodes:  85\n",
      "\n",
      "Running Experiment with total nodes:  90\n",
      "\n",
      "Running Experiment with total nodes:  95\n",
      "\n",
      "Running Experiment with total nodes:  100\n",
      "\n",
      "Running Experiment with total nodes:  105\n",
      "\n",
      "Running Experiment with total nodes:  110\n",
      "\n",
      "Running Experiment with total nodes:  115\n",
      "\n",
      "Running Experiment with total nodes:  120\n",
      "\n",
      "Running Experiment with total nodes:  125\n",
      "\n",
      "Running Experiment with total nodes:  130\n",
      "\n",
      "Running Experiment with total nodes:  135\n",
      "\n",
      "Running Experiment with total nodes:  140\n",
      "\n",
      "Running Experiment with total nodes:  145\n",
      "\n",
      "Running Experiment with total nodes:  150\n",
      "\n",
      "Running Experiment with total nodes:  155\n",
      "\n",
      "Running Experiment with total nodes:  160\n",
      "\n",
      "Running Experiment with total nodes:  165\n",
      "\n",
      "Running Experiment with total nodes:  170\n",
      "\n",
      "Running Experiment with total nodes:  175\n",
      "\n",
      "Running Experiment with total nodes:  180\n",
      "\n",
      "Running Experiment with total nodes:  185\n",
      "\n",
      "Running Experiment with total nodes:  190\n",
      "\n",
      "Running Experiment with total nodes:  195\n",
      "\n",
      "Running Experiment with total nodes:  200\n",
      "\n",
      "Running Experiment with total nodes:  205\n",
      "\n",
      "Running Experiment with total nodes:  210\n",
      "\n",
      "Running Experiment with total nodes:  215\n",
      "\n",
      "Running Experiment with total nodes:  220\n",
      "\n",
      "Running Experiment with total nodes:  225\n",
      "\n",
      "Running Experiment with total nodes:  230\n",
      "\n",
      "Running Experiment with total nodes:  235\n",
      "\n",
      "Running Experiment with total nodes:  240\n",
      "\n",
      "Running Experiment with total nodes:  245\n",
      "\n",
      "Running Experiment with total nodes:  250\n",
      "\n",
      "Running Experiment with total nodes:  255\n",
      "\n",
      "Running Experiment with total nodes:  260\n",
      "\n",
      "Running Experiment with total nodes:  265\n",
      "\n",
      "Running Experiment with total nodes:  270\n",
      "\n",
      "Running Experiment with total nodes:  275\n",
      "\n",
      "Running Experiment with total nodes:  280\n",
      "\n",
      "Running Experiment with total nodes:  285\n",
      "\n",
      "Running Experiment with total nodes:  290\n",
      "\n",
      "Running Experiment with total nodes:  295\n",
      "\n",
      "Running Experiment with total nodes:  300\n",
      "\n",
      "Running Experiment with total nodes:  305\n",
      "\n",
      "Running Experiment with total nodes:  310\n",
      "\n",
      "Running Experiment with total nodes:  315\n",
      "\n",
      "Running Experiment with total nodes:  320\n",
      "\n",
      "Running Experiment with total nodes:  325\n",
      "\n",
      "Running Experiment with total nodes:  330\n",
      "\n",
      "Running Experiment with total nodes:  335\n",
      "\n",
      "Running Experiment with total nodes:  340\n",
      "\n",
      "Running Experiment with total nodes:  345\n",
      "\n",
      "Running Experiment with total nodes:  350\n",
      "\n",
      "Running Experiment with total nodes:  355\n",
      "\n",
      "Running Experiment with total nodes:  360\n",
      "\n",
      "Running Experiment with total nodes:  365\n",
      "\n",
      "Running Experiment with total nodes:  370\n",
      "\n",
      "Running Experiment with total nodes:  375\n",
      "\n",
      "Running Experiment with total nodes:  380\n",
      "\n",
      "Running Experiment with total nodes:  385\n",
      "\n",
      "Running Experiment with total nodes:  390\n",
      "\n",
      "Running Experiment with total nodes:  395\n",
      "\n",
      "Running Experiment with total nodes:  400\n",
      "\n",
      "Running Experiment with total nodes:  405\n",
      "\n",
      "Running Experiment with total nodes:  410\n",
      "\n",
      "Running Experiment with total nodes:  415\n",
      "\n",
      "Running Experiment with total nodes:  420\n",
      "\n",
      "Running Experiment with total nodes:  425\n",
      "\n",
      "Running Experiment with total nodes:  430\n",
      "\n",
      "Running Experiment with total nodes:  435\n",
      "\n",
      "Running Experiment with total nodes:  440\n",
      "\n",
      "Running Experiment with total nodes:  445\n",
      "\n",
      "Running Experiment with total nodes:  450\n",
      "\n",
      "Running Experiment with total nodes:  455\n",
      "\n",
      "Running Experiment with total nodes:  460\n",
      "\n",
      "Running Experiment with total nodes:  465\n",
      "\n",
      "Running Experiment with total nodes:  470\n",
      "\n",
      "Running Experiment with total nodes:  475\n",
      "\n",
      "Running Experiment with total nodes:  480\n",
      "\n",
      "Running Experiment with total nodes:  485\n",
      "\n",
      "Running Experiment with total nodes:  490\n",
      "\n",
      "Running Experiment with total nodes:  495\n"
     ]
    }
   ],
   "source": [
    "# Main Simulation\n",
    "results = []  # list to store the results\n",
    "for total_nodes in range(minimum_nodes, maximum_nodes, step):\n",
    "    print(\"\\nRunning Experiment with total nodes: \", total_nodes)\n",
    "    \n",
    "    # Create random sensor node mac addresses to add to the network\n",
    "    node_list = []\n",
    "    for n in range(0, total_nodes + 1):\n",
    "        mac_address = secrets.token_hex(6)  # Generate random MAC addresses\n",
    "        node_list.append(SensorNode(mac_address, None))\n",
    "        # print(\"Found node with MAC Address: \", mac_address)\n",
    "    # Sort the list of nodes by NODE ID\n",
    "    node_list.sort(key=lambda node: node.node_id)\n",
    "    \n",
    "    # Add the above random sensor nodes to a new empty network\n",
    "    wsn = network_build(node_list)\n",
    "    \n",
    "    # Export the network's list of nodes\n",
    "    list_of_nodes = wsn.List_of_Nodes\n",
    "    \n",
    "    sum_of_contacts = 0  # the total sum of node contacts\n",
    "    \n",
    "    for node in list_of_nodes:\n",
    "        node.update_total_num_of_contacts()\n",
    "        sum_of_contacts = sum_of_contacts + node.contacts_num  # update the total sum of node contacts\n",
    "    \n",
    "    local_average = sum_of_contacts / total_nodes\n",
    "    local_result = {\n",
    "        \"Nodes\": total_nodes, \n",
    "        \"Avg_Num_of_Contacts\": local_average\n",
    "    }\n",
    "    results.append(local_result)"
   ],
   "metadata": {
    "collapsed": false,
    "ExecuteTime": {
     "end_time": "2023-08-21T02:58:05.710711300Z",
     "start_time": "2023-08-21T02:57:09.936011700Z"
    }
   },
   "id": "923ef023ec5a80a8"
  },
  {
   "cell_type": "code",
   "execution_count": 8,
   "outputs": [
    {
     "data": {
      "text/plain": "[{'Nodes': 10, 'Avg_Num_of_Contacts': 4.9},\n {'Nodes': 15, 'Avg_Num_of_Contacts': 4.8},\n {'Nodes': 20, 'Avg_Num_of_Contacts': 5.4},\n {'Nodes': 25, 'Avg_Num_of_Contacts': 5.64},\n {'Nodes': 30, 'Avg_Num_of_Contacts': 6.066666666666666},\n {'Nodes': 35, 'Avg_Num_of_Contacts': 6.114285714285714},\n {'Nodes': 40, 'Avg_Num_of_Contacts': 6.325},\n {'Nodes': 45, 'Avg_Num_of_Contacts': 6.5777777777777775},\n {'Nodes': 50, 'Avg_Num_of_Contacts': 6.52},\n {'Nodes': 55, 'Avg_Num_of_Contacts': 6.5636363636363635},\n {'Nodes': 60, 'Avg_Num_of_Contacts': 6.833333333333333},\n {'Nodes': 65, 'Avg_Num_of_Contacts': 6.815384615384615},\n {'Nodes': 70, 'Avg_Num_of_Contacts': 6.985714285714286},\n {'Nodes': 75, 'Avg_Num_of_Contacts': 7.066666666666666},\n {'Nodes': 80, 'Avg_Num_of_Contacts': 7.2},\n {'Nodes': 85, 'Avg_Num_of_Contacts': 7.329411764705882},\n {'Nodes': 90, 'Avg_Num_of_Contacts': 7.155555555555556},\n {'Nodes': 95, 'Avg_Num_of_Contacts': 7.6},\n {'Nodes': 100, 'Avg_Num_of_Contacts': 7.83},\n {'Nodes': 105, 'Avg_Num_of_Contacts': 7.6},\n {'Nodes': 110, 'Avg_Num_of_Contacts': 7.463636363636364},\n {'Nodes': 115, 'Avg_Num_of_Contacts': 7.521739130434782},\n {'Nodes': 120, 'Avg_Num_of_Contacts': 7.758333333333334},\n {'Nodes': 125, 'Avg_Num_of_Contacts': 7.792},\n {'Nodes': 130, 'Avg_Num_of_Contacts': 7.969230769230769},\n {'Nodes': 135, 'Avg_Num_of_Contacts': 7.822222222222222},\n {'Nodes': 140, 'Avg_Num_of_Contacts': 8.15},\n {'Nodes': 145, 'Avg_Num_of_Contacts': 8.220689655172414},\n {'Nodes': 150, 'Avg_Num_of_Contacts': 8.006666666666666},\n {'Nodes': 155, 'Avg_Num_of_Contacts': 8.03225806451613},\n {'Nodes': 160, 'Avg_Num_of_Contacts': 8.2},\n {'Nodes': 165, 'Avg_Num_of_Contacts': 8.084848484848484},\n {'Nodes': 170, 'Avg_Num_of_Contacts': 8.288235294117648},\n {'Nodes': 175, 'Avg_Num_of_Contacts': 8.44},\n {'Nodes': 180, 'Avg_Num_of_Contacts': 8.083333333333334},\n {'Nodes': 185, 'Avg_Num_of_Contacts': 8.513513513513514},\n {'Nodes': 190, 'Avg_Num_of_Contacts': 8.378947368421052},\n {'Nodes': 195, 'Avg_Num_of_Contacts': 8.476923076923077},\n {'Nodes': 200, 'Avg_Num_of_Contacts': 8.535},\n {'Nodes': 205, 'Avg_Num_of_Contacts': 8.609756097560975},\n {'Nodes': 210, 'Avg_Num_of_Contacts': 8.771428571428572},\n {'Nodes': 215, 'Avg_Num_of_Contacts': 8.455813953488372},\n {'Nodes': 220, 'Avg_Num_of_Contacts': 8.513636363636364},\n {'Nodes': 225, 'Avg_Num_of_Contacts': 8.582222222222223},\n {'Nodes': 230, 'Avg_Num_of_Contacts': 8.804347826086957},\n {'Nodes': 235, 'Avg_Num_of_Contacts': 8.885106382978723},\n {'Nodes': 240, 'Avg_Num_of_Contacts': 8.7625},\n {'Nodes': 245, 'Avg_Num_of_Contacts': 8.783673469387756},\n {'Nodes': 250, 'Avg_Num_of_Contacts': 8.812},\n {'Nodes': 255, 'Avg_Num_of_Contacts': 8.933333333333334},\n {'Nodes': 260, 'Avg_Num_of_Contacts': 8.773076923076923},\n {'Nodes': 265, 'Avg_Num_of_Contacts': 8.777358490566037},\n {'Nodes': 270, 'Avg_Num_of_Contacts': 8.714814814814815},\n {'Nodes': 275, 'Avg_Num_of_Contacts': 9.003636363636364},\n {'Nodes': 280, 'Avg_Num_of_Contacts': 8.978571428571428},\n {'Nodes': 285, 'Avg_Num_of_Contacts': 9.03859649122807},\n {'Nodes': 290, 'Avg_Num_of_Contacts': 8.982758620689655},\n {'Nodes': 295, 'Avg_Num_of_Contacts': 9.077966101694916},\n {'Nodes': 300, 'Avg_Num_of_Contacts': 9.136666666666667},\n {'Nodes': 305, 'Avg_Num_of_Contacts': 8.98360655737705},\n {'Nodes': 310, 'Avg_Num_of_Contacts': 9.041935483870967},\n {'Nodes': 315, 'Avg_Num_of_Contacts': 9.117460317460317},\n {'Nodes': 320, 'Avg_Num_of_Contacts': 9.234375},\n {'Nodes': 325, 'Avg_Num_of_Contacts': 9.20923076923077},\n {'Nodes': 330, 'Avg_Num_of_Contacts': 9.275757575757575},\n {'Nodes': 335, 'Avg_Num_of_Contacts': 9.226865671641791},\n {'Nodes': 340, 'Avg_Num_of_Contacts': 9.341176470588236},\n {'Nodes': 345, 'Avg_Num_of_Contacts': 9.24927536231884},\n {'Nodes': 350, 'Avg_Num_of_Contacts': 9.294285714285714},\n {'Nodes': 355, 'Avg_Num_of_Contacts': 9.304225352112676},\n {'Nodes': 360, 'Avg_Num_of_Contacts': 9.380555555555556},\n {'Nodes': 365, 'Avg_Num_of_Contacts': 9.235616438356164},\n {'Nodes': 370, 'Avg_Num_of_Contacts': 9.378378378378379},\n {'Nodes': 375, 'Avg_Num_of_Contacts': 9.378666666666666},\n {'Nodes': 380, 'Avg_Num_of_Contacts': 9.292105263157895},\n {'Nodes': 385, 'Avg_Num_of_Contacts': 9.454545454545455},\n {'Nodes': 390, 'Avg_Num_of_Contacts': 9.382051282051282},\n {'Nodes': 395, 'Avg_Num_of_Contacts': 9.427848101265823},\n {'Nodes': 400, 'Avg_Num_of_Contacts': 9.61},\n {'Nodes': 405, 'Avg_Num_of_Contacts': 9.390123456790123},\n {'Nodes': 410, 'Avg_Num_of_Contacts': 9.541463414634146},\n {'Nodes': 415, 'Avg_Num_of_Contacts': 9.60722891566265},\n {'Nodes': 420, 'Avg_Num_of_Contacts': 9.542857142857143},\n {'Nodes': 425, 'Avg_Num_of_Contacts': 9.59764705882353},\n {'Nodes': 430, 'Avg_Num_of_Contacts': 9.511627906976743},\n {'Nodes': 435, 'Avg_Num_of_Contacts': 9.53103448275862},\n {'Nodes': 440, 'Avg_Num_of_Contacts': 9.668181818181818},\n {'Nodes': 445, 'Avg_Num_of_Contacts': 9.631460674157303},\n {'Nodes': 450, 'Avg_Num_of_Contacts': 9.653333333333334},\n {'Nodes': 455, 'Avg_Num_of_Contacts': 9.441758241758242},\n {'Nodes': 460, 'Avg_Num_of_Contacts': 9.773913043478261},\n {'Nodes': 465, 'Avg_Num_of_Contacts': 9.621505376344086},\n {'Nodes': 470, 'Avg_Num_of_Contacts': 9.708510638297872},\n {'Nodes': 475, 'Avg_Num_of_Contacts': 9.75578947368421},\n {'Nodes': 480, 'Avg_Num_of_Contacts': 9.797916666666667},\n {'Nodes': 485, 'Avg_Num_of_Contacts': 9.777319587628867},\n {'Nodes': 490, 'Avg_Num_of_Contacts': 9.808163265306122},\n {'Nodes': 495, 'Avg_Num_of_Contacts': 9.731313131313131}]"
     },
     "execution_count": 8,
     "metadata": {},
     "output_type": "execute_result"
    }
   ],
   "source": [
    "results"
   ],
   "metadata": {
    "collapsed": false,
    "ExecuteTime": {
     "end_time": "2023-08-21T02:58:32.659098900Z",
     "start_time": "2023-08-21T02:58:32.610959900Z"
    }
   },
   "id": "ce9d9ce4443308bc"
  },
  {
   "cell_type": "code",
   "execution_count": null,
   "outputs": [],
   "source": [],
   "metadata": {
    "collapsed": false
   },
   "id": "9ebf1f367e97e75e"
  }
 ],
 "metadata": {
  "kernelspec": {
   "display_name": "Python 3",
   "language": "python",
   "name": "python3"
  },
  "language_info": {
   "codemirror_mode": {
    "name": "ipython",
    "version": 2
   },
   "file_extension": ".py",
   "mimetype": "text/x-python",
   "name": "python",
   "nbconvert_exporter": "python",
   "pygments_lexer": "ipython2",
   "version": "2.7.6"
  }
 },
 "nbformat": 4,
 "nbformat_minor": 5
}
