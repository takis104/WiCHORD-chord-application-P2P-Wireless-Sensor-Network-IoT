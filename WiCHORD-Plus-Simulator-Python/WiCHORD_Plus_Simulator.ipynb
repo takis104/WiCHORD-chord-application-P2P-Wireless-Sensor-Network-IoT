{
 "cells": [
  {
   "cell_type": "markdown",
   "source": [
    "# WiCHORD+ Simulator Implementation in Python\n",
    "Created by Christos-Panagiotis Balatsouras\n",
    "ORCID: https://orcid.org/0000-0001-8914-7559"
   ],
   "metadata": {
    "collapsed": false
   },
   "id": "6dead88455b13fe2"
  },
  {
   "cell_type": "markdown",
   "source": [
    "## Use Case: Chord-Based Routing Evaluation on Wireless Sensor Networks\n",
    "\n",
    "Simulation Experiments:\n",
    "1. Key (Node IDs) Storage Efficiency per node & Load Balancing\n",
    "2. Energy Efficiency\n",
    "3. MAC Address Hashing for Node ID Assignment Collision Rate"
   ],
   "metadata": {
    "collapsed": false
   },
   "id": "8d74c630f6088e2f"
  },
  {
   "cell_type": "code",
   "execution_count": 1,
   "outputs": [],
   "source": [
    "# Import Python Modules\n",
    "import matplotlib as mpl\n",
    "import matplotlib.pyplot as plt\n",
    "import secrets\n",
    "import random"
   ],
   "metadata": {
    "collapsed": false,
    "ExecuteTime": {
     "end_time": "2023-08-10T20:51:24.278761900Z",
     "start_time": "2023-08-10T20:51:22.870119600Z"
    }
   },
   "id": "147ac1ebbd225db1"
  },
  {
   "cell_type": "code",
   "execution_count": 2,
   "outputs": [],
   "source": [
    "# Import modules from this project\n",
    "from network_build import network_build\n",
    "from SensorNode import SensorNode"
   ],
   "metadata": {
    "collapsed": false,
    "ExecuteTime": {
     "end_time": "2023-08-10T20:51:28.049098800Z",
     "start_time": "2023-08-10T20:51:28.000838800Z"
    }
   },
   "id": "e25e0acc2bdcfdbf"
  },
  {
   "cell_type": "code",
   "execution_count": 3,
   "outputs": [],
   "source": [
    "# Global Variables\n",
    "# ..."
   ],
   "metadata": {
    "collapsed": false,
    "ExecuteTime": {
     "end_time": "2023-08-10T20:52:00.763786300Z",
     "start_time": "2023-08-10T20:52:00.728519Z"
    }
   },
   "id": "70630b42d9056d03"
  },
  {
   "cell_type": "markdown",
   "source": [
    "### Main Application"
   ],
   "metadata": {
    "collapsed": false
   },
   "id": "37eacf3e5acf175b"
  },
  {
   "cell_type": "code",
   "execution_count": 4,
   "outputs": [
    {
     "name": "stdout",
     "output_type": "stream",
     "text": [
      "+-----------------------------------+\n",
      "|                                   |\n",
      "|        Wi-CHORD+ Simulator        |\n",
      "|                                   |\n",
      "+-----------------------------------+\n",
      "Chord Protocol Application on Wireless Sensor Networks\n",
      "Implementation by Christos-Panagiotis Mpalatsouras\n",
      "ORCID: orcid.org/0000-0001-8914-7559\n"
     ]
    }
   ],
   "source": [
    "print(\"+-----------------------------------+\")\n",
    "print(\"|                                   |\")\n",
    "print(\"|        Wi-CHORD+ Simulator        |\")\n",
    "print(\"|                                   |\")\n",
    "print(\"+-----------------------------------+\")\n",
    "print(\"Chord Protocol Application on Wireless Sensor Networks\")\n",
    "print(\"Implementation by Christos-Panagiotis Mpalatsouras\")\n",
    "print(\"ORCID: orcid.org/0000-0001-8914-7559\")"
   ],
   "metadata": {
    "collapsed": false,
    "ExecuteTime": {
     "end_time": "2023-08-10T20:53:08.988394800Z",
     "start_time": "2023-08-10T20:53:08.957970200Z"
    }
   },
   "id": "50ed9c481cd23ba7"
  },
  {
   "cell_type": "code",
   "execution_count": null,
   "outputs": [],
   "source": [
    "# ..."
   ],
   "metadata": {
    "collapsed": false
   },
   "id": "d37b894cd3e466a4"
  },
  {
   "cell_type": "markdown",
   "source": [
    "#### Simulation #1: Key Load Balancing"
   ],
   "metadata": {
    "collapsed": false
   },
   "id": "8fa0e754b6cbdc87"
  },
  {
   "cell_type": "code",
   "execution_count": null,
   "outputs": [],
   "source": [
    "# ..."
   ],
   "metadata": {
    "collapsed": false
   },
   "id": "cfad05fcf4826072"
  }
 ],
 "metadata": {
  "kernelspec": {
   "display_name": "Python 3",
   "language": "python",
   "name": "python3"
  },
  "language_info": {
   "codemirror_mode": {
    "name": "ipython",
    "version": 2
   },
   "file_extension": ".py",
   "mimetype": "text/x-python",
   "name": "python",
   "nbconvert_exporter": "python",
   "pygments_lexer": "ipython2",
   "version": "2.7.6"
  }
 },
 "nbformat": 4,
 "nbformat_minor": 5
}
