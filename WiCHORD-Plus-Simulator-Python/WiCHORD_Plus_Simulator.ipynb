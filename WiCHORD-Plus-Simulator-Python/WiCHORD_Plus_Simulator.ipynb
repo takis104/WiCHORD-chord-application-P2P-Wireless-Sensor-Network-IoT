{
 "cells": [
  {
   "cell_type": "markdown",
   "source": [
    "# WiCHORD+ Simulator Implementation in Python\n",
    "Created by Christos-Panagiotis Balatsouras\n",
    "ORCID: https://orcid.org/0000-0001-8914-7559"
   ],
   "metadata": {
    "collapsed": false
   },
   "id": "6dead88455b13fe2"
  },
  {
   "cell_type": "markdown",
   "source": [
    "## Use Case: Chord-Based Routing Evaluation on Wireless Sensor Networks\n",
    "\n",
    "Simulation Experiments:\n",
    "1. Key (Node IDs) Storage Efficiency per node & Load Balancing\n",
    "2. Energy Efficiency\n",
    "3. MAC Address Hashing for Node ID Assignment Collision Rate"
   ],
   "metadata": {
    "collapsed": false
   },
   "id": "8d74c630f6088e2f"
  },
  {
   "cell_type": "code",
   "execution_count": 2,
   "outputs": [],
   "source": [
    "# Import Python Modules\n",
    "import matplotlib as mpl\n",
    "import matplotlib.pyplot as plt\n",
    "import secrets\n",
    "import random"
   ],
   "metadata": {
    "collapsed": false,
    "ExecuteTime": {
     "end_time": "2023-08-20T01:07:42.459810200Z",
     "start_time": "2023-08-20T01:07:41.234753600Z"
    }
   },
   "id": "147ac1ebbd225db1"
  },
  {
   "cell_type": "code",
   "execution_count": 3,
   "outputs": [],
   "source": [
    "# Import modules from this project\n",
    "from network_build import network_build\n",
    "from SensorNode import SensorNode"
   ],
   "metadata": {
    "collapsed": false,
    "ExecuteTime": {
     "end_time": "2023-08-20T01:07:42.474839300Z",
     "start_time": "2023-08-20T01:07:42.454794100Z"
    }
   },
   "id": "e25e0acc2bdcfdbf"
  },
  {
   "cell_type": "code",
   "execution_count": 4,
   "outputs": [],
   "source": [
    "# Global Variables\n",
    "# ..."
   ],
   "metadata": {
    "collapsed": false,
    "ExecuteTime": {
     "end_time": "2023-08-20T01:07:42.489980800Z",
     "start_time": "2023-08-20T01:07:42.474839300Z"
    }
   },
   "id": "70630b42d9056d03"
  },
  {
   "cell_type": "markdown",
   "source": [
    "### Main Application"
   ],
   "metadata": {
    "collapsed": false
   },
   "id": "37eacf3e5acf175b"
  },
  {
   "cell_type": "code",
   "execution_count": 5,
   "outputs": [
    {
     "name": "stdout",
     "output_type": "stream",
     "text": [
      "+-----------------------------------+\n",
      "|                                   |\n",
      "|        Wi-CHORD+ Simulator        |\n",
      "|                                   |\n",
      "+-----------------------------------+\n",
      "Chord Protocol Application on Wireless Sensor Networks\n",
      "Implementation by Christos-Panagiotis Mpalatsouras\n",
      "ORCID: orcid.org/0000-0001-8914-7559\n"
     ]
    }
   ],
   "source": [
    "print(\"+-----------------------------------+\")\n",
    "print(\"|                                   |\")\n",
    "print(\"|        Wi-CHORD+ Simulator        |\")\n",
    "print(\"|                                   |\")\n",
    "print(\"+-----------------------------------+\")\n",
    "print(\"Chord Protocol Application on Wireless Sensor Networks\")\n",
    "print(\"Implementation by Christos-Panagiotis Mpalatsouras\")\n",
    "print(\"ORCID: orcid.org/0000-0001-8914-7559\")"
   ],
   "metadata": {
    "collapsed": false,
    "ExecuteTime": {
     "end_time": "2023-08-20T01:07:42.548999600Z",
     "start_time": "2023-08-20T01:07:42.489980800Z"
    }
   },
   "id": "50ed9c481cd23ba7"
  },
  {
   "cell_type": "code",
   "execution_count": 7,
   "outputs": [],
   "source": [
    "total_runs_per_experiment = int(input(\"Please Specify the total runs per experiment: \"))\n",
    "minimum_nodes = int(input(\"Please Specify the minimum num of nodes on the network: \"))\n",
    "maximum_nodes = int(input(\"Please Specify the maximum num of nodes on the network: \"))\n",
    "step = int(input(\"Please specify the total nodes increment step: \"))"
   ],
   "metadata": {
    "collapsed": false,
    "ExecuteTime": {
     "end_time": "2023-08-20T01:08:29.778777300Z",
     "start_time": "2023-08-20T01:08:16.108989400Z"
    }
   },
   "id": "8d38125e3832fa93"
  },
  {
   "cell_type": "markdown",
   "source": [
    "#### Simulation #1: Key Load Balancing"
   ],
   "metadata": {
    "collapsed": false
   },
   "id": "8fa0e754b6cbdc87"
  },
  {
   "cell_type": "code",
   "execution_count": 8,
   "outputs": [
    {
     "name": "stdout",
     "output_type": "stream",
     "text": [
      "\n",
      "Experiment: Measuring the Average NodeID Storage per total number of Nodes\n"
     ]
    }
   ],
   "source": [
    "print(\"\\nExperiment: Measuring the Average NodeID Storage per total number of Nodes\\n\")"
   ],
   "metadata": {
    "collapsed": false,
    "ExecuteTime": {
     "end_time": "2023-08-20T01:08:32.769457600Z",
     "start_time": "2023-08-20T01:08:32.758979200Z"
    }
   },
   "id": "cfad05fcf4826072"
  },
  {
   "cell_type": "code",
   "execution_count": 9,
   "outputs": [],
   "source": [
    "# Main Simulation\n",
    "results = []  # list to store the results\n",
    "for total_nodes in range(minimum_nodes, maximum_nodes, step):\n",
    "    pass"
   ],
   "metadata": {
    "collapsed": false,
    "ExecuteTime": {
     "end_time": "2023-08-20T01:12:51.811335900Z",
     "start_time": "2023-08-20T01:12:51.754545900Z"
    }
   },
   "id": "923ef023ec5a80a8"
  }
 ],
 "metadata": {
  "kernelspec": {
   "display_name": "Python 3",
   "language": "python",
   "name": "python3"
  },
  "language_info": {
   "codemirror_mode": {
    "name": "ipython",
    "version": 2
   },
   "file_extension": ".py",
   "mimetype": "text/x-python",
   "name": "python",
   "nbconvert_exporter": "python",
   "pygments_lexer": "ipython2",
   "version": "2.7.6"
  }
 },
 "nbformat": 4,
 "nbformat_minor": 5
}
